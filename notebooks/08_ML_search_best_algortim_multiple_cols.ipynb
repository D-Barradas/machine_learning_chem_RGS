{
 "cells": [
  {
   "cell_type": "code",
   "execution_count": 1,
   "metadata": {},
   "outputs": [],
   "source": [
    "from process_library import *\n",
    "import os "
   ]
  },
  {
   "cell_type": "code",
   "execution_count": 2,
   "metadata": {},
   "outputs": [],
   "source": [
    "rng = np.random.RandomState(42)\n",
    "\n",
    "# data loading \n",
    "path_to_parent_folder = \"/\".join( os.getcwd().split(\"/\")[:-1] ) \n",
    "path_to_data = \"data/pubchem_data_2023-12-05_343_samples.csv\"\n",
    "path = os.path.join(path_to_parent_folder,path_to_data)\n",
    "\n",
    "df_all_data = pd.read_csv(path)\n",
    "feature_names_involved_in_training = df_all_data.drop(['substituent','molecular_formula','Name','canonical_smiles','ΔVC-m','cid','ΔVC -p'],axis=1).columns\n",
    "# target_feature_name =\"ΔVC-p\""
   ]
  },
  {
   "cell_type": "code",
   "execution_count": 3,
   "metadata": {},
   "outputs": [],
   "source": [
    "X_train, X_val, X_test, y_train, y_val, y_test = get_data_separated(df_all_data,random_state=rng,choice=2)\n",
    "X_train, X_val, X_test = scaling_data(X_train, X_val, X_test)"
   ]
  },
  {
   "cell_type": "code",
   "execution_count": 4,
   "metadata": {},
   "outputs": [],
   "source": [
    "target_feature_name = \"-\".join(y_train.columns.to_list()).replace(\" \",\"\")"
   ]
  },
  {
   "cell_type": "code",
   "execution_count": 5,
   "metadata": {},
   "outputs": [],
   "source": [
    "regression_models = load_regression_models()\n"
   ]
  },
  {
   "cell_type": "markdown",
   "metadata": {},
   "source": [
    "The following algorithms do not accept multiple columns targets : \n",
    "[\"Bayesian Ridge\" ,\"Huber Regressor\", \"Passive Aggressive Regressor\",\"ARD Regression\",\"Gradient Boosting\",\"Support Vector Regression\",\"Stochastic Gradient Descent\"]\n",
    "\n",
    "This is a constrain in the selection of the regressor algorithms"
   ]
  },
  {
   "cell_type": "code",
   "execution_count": 6,
   "metadata": {},
   "outputs": [
    {
     "name": "stdout",
     "output_type": "stream",
     "text": [
      "Linear Regression\n",
      "Ridge\n",
      "Lasso\n",
      "Elastic Net\n",
      "Bayesian Ridge\n",
      "Huber Regressor\n",
      "Passive Aggressive Regressor\n",
      "RANSAC Regressor\n",
      "ARD Regression\n",
      "Orthogonal Matching Pursuit\n",
      "Decision Tree\n",
      "Random Forest\n"
     ]
    },
    {
     "name": "stderr",
     "output_type": "stream",
     "text": [
      "/home/barradd/Documents/GitHub/machine_learning_chem_RGS/env/lib/python3.10/site-packages/sklearn/linear_model/_base.py:133: FutureWarning: The default of 'normalize' will be set to False in version 1.2 and deprecated in version 1.4.\n",
      "If you wish to scale the data, use Pipeline with a StandardScaler in a preprocessing stage. To reproduce the previous behavior:\n",
      "\n",
      "from sklearn.pipeline import make_pipeline\n",
      "\n",
      "model = make_pipeline(StandardScaler(with_mean=False), OrthogonalMatchingPursuit())\n",
      "\n",
      "If you wish to pass a sample_weight parameter, you need to pass it as a fit parameter to each step of the pipeline as follows:\n",
      "\n",
      "kwargs = {s[0] + '__sample_weight': sample_weight for s in model.steps}\n",
      "model.fit(X, y, **kwargs)\n",
      "\n",
      "\n",
      "  warnings.warn(\n"
     ]
    },
    {
     "name": "stdout",
     "output_type": "stream",
     "text": [
      "Gradient Boosting\n",
      "K-Nearest Neighbors\n",
      "Support Vector Regression\n",
      "Stochastic Gradient Descent\n",
      "Multi-layer Perceptron\n"
     ]
    },
    {
     "name": "stderr",
     "output_type": "stream",
     "text": [
      "/home/barradd/Documents/GitHub/machine_learning_chem_RGS/env/lib/python3.10/site-packages/sklearn/neural_network/_multilayer_perceptron.py:702: ConvergenceWarning: Stochastic Optimizer: Maximum iterations (200) reached and the optimization hasn't converged yet.\n",
      "  warnings.warn(\n"
     ]
    }
   ],
   "source": [
    "val_results_list = []\n",
    "for name, model in regression_models.items():\n",
    "    print (name)\n",
    "    if name not in [\"Bayesian Ridge\" ,\"Huber Regressor\", \"Passive Aggressive Regressor\",\"ARD Regression\",\"Gradient Boosting\",\"Support Vector Regression\",\"Stochastic Gradient Descent\"]:\n",
    "        model.fit(X_train, y_train.to_numpy())\n",
    "        val_results_list.append ( save_metrics_results(model=model,X_test=X_val,y_test=y_val,tag=name) ) \n",
    "\n"
   ]
  },
  {
   "cell_type": "code",
   "execution_count": 7,
   "metadata": {},
   "outputs": [
    {
     "data": {
      "text/html": [
       "<div>\n",
       "<style scoped>\n",
       "    .dataframe tbody tr th:only-of-type {\n",
       "        vertical-align: middle;\n",
       "    }\n",
       "\n",
       "    .dataframe tbody tr th {\n",
       "        vertical-align: top;\n",
       "    }\n",
       "\n",
       "    .dataframe thead th {\n",
       "        text-align: right;\n",
       "    }\n",
       "</style>\n",
       "<table border=\"1\" class=\"dataframe\">\n",
       "  <thead>\n",
       "    <tr style=\"text-align: right;\">\n",
       "      <th></th>\n",
       "      <th>R^2</th>\n",
       "      <th>MAE</th>\n",
       "      <th>MSE</th>\n",
       "      <th>MAPE</th>\n",
       "      <th>MedAE</th>\n",
       "    </tr>\n",
       "  </thead>\n",
       "  <tbody>\n",
       "    <tr>\n",
       "      <th>Multi-layer Perceptron</th>\n",
       "      <td>9.254232e-01</td>\n",
       "      <td>1.548878e+00</td>\n",
       "      <td>4.875440e+00</td>\n",
       "      <td>5.022526e-01</td>\n",
       "      <td>1.046721</td>\n",
       "    </tr>\n",
       "    <tr>\n",
       "      <th>Ridge</th>\n",
       "      <td>9.089691e-01</td>\n",
       "      <td>1.777687e+00</td>\n",
       "      <td>6.034139e+00</td>\n",
       "      <td>7.214352e-01</td>\n",
       "      <td>1.311270</td>\n",
       "    </tr>\n",
       "    <tr>\n",
       "      <th>Linear Regression</th>\n",
       "      <td>9.056123e-01</td>\n",
       "      <td>1.798061e+00</td>\n",
       "      <td>6.253491e+00</td>\n",
       "      <td>7.291150e-01</td>\n",
       "      <td>1.234517</td>\n",
       "    </tr>\n",
       "    <tr>\n",
       "      <th>Random Forest</th>\n",
       "      <td>8.747634e-01</td>\n",
       "      <td>1.657078e+00</td>\n",
       "      <td>8.282271e+00</td>\n",
       "      <td>4.996769e-01</td>\n",
       "      <td>0.665322</td>\n",
       "    </tr>\n",
       "    <tr>\n",
       "      <th>Orthogonal Matching Pursuit</th>\n",
       "      <td>8.715649e-01</td>\n",
       "      <td>2.123982e+00</td>\n",
       "      <td>8.323944e+00</td>\n",
       "      <td>1.052336e+00</td>\n",
       "      <td>1.643018</td>\n",
       "    </tr>\n",
       "    <tr>\n",
       "      <th>K-Nearest Neighbors</th>\n",
       "      <td>8.586544e-01</td>\n",
       "      <td>2.171421e+00</td>\n",
       "      <td>9.370296e+00</td>\n",
       "      <td>6.545082e-01</td>\n",
       "      <td>1.341478</td>\n",
       "    </tr>\n",
       "    <tr>\n",
       "      <th>Elastic Net</th>\n",
       "      <td>8.447852e-01</td>\n",
       "      <td>2.494573e+00</td>\n",
       "      <td>1.025083e+01</td>\n",
       "      <td>1.042713e+00</td>\n",
       "      <td>1.943617</td>\n",
       "    </tr>\n",
       "    <tr>\n",
       "      <th>Lasso</th>\n",
       "      <td>8.358426e-01</td>\n",
       "      <td>2.623597e+00</td>\n",
       "      <td>1.073058e+01</td>\n",
       "      <td>1.150902e+00</td>\n",
       "      <td>2.023249</td>\n",
       "    </tr>\n",
       "    <tr>\n",
       "      <th>Decision Tree</th>\n",
       "      <td>8.252198e-01</td>\n",
       "      <td>1.732690e+00</td>\n",
       "      <td>1.143719e+01</td>\n",
       "      <td>3.276806e-01</td>\n",
       "      <td>0.284287</td>\n",
       "    </tr>\n",
       "    <tr>\n",
       "      <th>RANSAC Regressor</th>\n",
       "      <td>-2.193452e+15</td>\n",
       "      <td>8.482910e+07</td>\n",
       "      <td>1.504002e+17</td>\n",
       "      <td>1.623599e+07</td>\n",
       "      <td>2.058848</td>\n",
       "    </tr>\n",
       "  </tbody>\n",
       "</table>\n",
       "</div>"
      ],
      "text/plain": [
       "                                      R^2           MAE           MSE  \\\n",
       "Multi-layer Perceptron       9.254232e-01  1.548878e+00  4.875440e+00   \n",
       "Ridge                        9.089691e-01  1.777687e+00  6.034139e+00   \n",
       "Linear Regression            9.056123e-01  1.798061e+00  6.253491e+00   \n",
       "Random Forest                8.747634e-01  1.657078e+00  8.282271e+00   \n",
       "Orthogonal Matching Pursuit  8.715649e-01  2.123982e+00  8.323944e+00   \n",
       "K-Nearest Neighbors          8.586544e-01  2.171421e+00  9.370296e+00   \n",
       "Elastic Net                  8.447852e-01  2.494573e+00  1.025083e+01   \n",
       "Lasso                        8.358426e-01  2.623597e+00  1.073058e+01   \n",
       "Decision Tree                8.252198e-01  1.732690e+00  1.143719e+01   \n",
       "RANSAC Regressor            -2.193452e+15  8.482910e+07  1.504002e+17   \n",
       "\n",
       "                                     MAPE     MedAE  \n",
       "Multi-layer Perceptron       5.022526e-01  1.046721  \n",
       "Ridge                        7.214352e-01  1.311270  \n",
       "Linear Regression            7.291150e-01  1.234517  \n",
       "Random Forest                4.996769e-01  0.665322  \n",
       "Orthogonal Matching Pursuit  1.052336e+00  1.643018  \n",
       "K-Nearest Neighbors          6.545082e-01  1.341478  \n",
       "Elastic Net                  1.042713e+00  1.943617  \n",
       "Lasso                        1.150902e+00  2.023249  \n",
       "Decision Tree                3.276806e-01  0.284287  \n",
       "RANSAC Regressor             1.623599e+07  2.058848  "
      ]
     },
     "execution_count": 7,
     "metadata": {},
     "output_type": "execute_result"
    }
   ],
   "source": [
    "val_results_df = pd.concat(val_results_list)\n",
    "val_results_df.sort_values(by=[\"R^2\", \"MAE\"],ascending=False)"
   ]
  },
  {
   "cell_type": "code",
   "execution_count": null,
   "metadata": {},
   "outputs": [],
   "source": []
  }
 ],
 "metadata": {
  "kernelspec": {
   "display_name": "qmpy",
   "language": "python",
   "name": "python3"
  },
  "language_info": {
   "codemirror_mode": {
    "name": "ipython",
    "version": 3
   },
   "file_extension": ".py",
   "mimetype": "text/x-python",
   "name": "python",
   "nbconvert_exporter": "python",
   "pygments_lexer": "ipython3",
   "version": "3.10.6"
  }
 },
 "nbformat": 4,
 "nbformat_minor": 2
}
