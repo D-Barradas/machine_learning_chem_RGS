{
 "cells": [
  {
   "cell_type": "code",
   "execution_count": 7,
   "metadata": {},
   "outputs": [],
   "source": [
    "from process_library import *\n",
    "import os "
   ]
  },
  {
   "cell_type": "code",
   "execution_count": 8,
   "metadata": {},
   "outputs": [],
   "source": [
    "import warnings\n",
    "warnings.filterwarnings('ignore') # Reduce number of messages/warnings displayed"
   ]
  },
  {
   "cell_type": "code",
   "execution_count": 9,
   "metadata": {},
   "outputs": [
    {
     "name": "stdout",
     "output_type": "stream",
     "text": [
      "Numpy version:1.22.4\n",
      "Pandas version:1.4.3\n"
     ]
    }
   ],
   "source": [
    "print (f\"Numpy version:{np.__version__}\")\n",
    "print (f\"Pandas version:{pd.__version__}\")\n"
   ]
  },
  {
   "cell_type": "code",
   "execution_count": 10,
   "metadata": {},
   "outputs": [],
   "source": [
    "rng = np.random.RandomState(42)\n",
    "\n",
    "# data loading \n",
    "path_to_parent_folder = \"/\".join( os.getcwd().split(\"/\")[:-1] ) \n",
    "path_to_data = \"data/pubchem_data_2023-12-05_343_samples.csv\"\n",
    "path = os.path.join(path_to_parent_folder,path_to_data)\n",
    "\n",
    "df_all_data = pd.read_csv(path)\n",
    "feature_names_involved_in_training = df_all_data.drop(['substituent','molecular_formula','Name','canonical_smiles','ΔVC-m','cid','ΔVC -p'],axis=1).columns\n",
    "\n",
    "only_support_1d_arrays = [\"Bayesian Ridge\" ,\"Huber Regressor\", \"Passive Aggressive Regressor\",\"ARD Regression\",\"Gradient Boosting\",\"Support Vector Regression\",\"Stochastic Gradient Descent\"]"
   ]
  },
  {
   "cell_type": "markdown",
   "metadata": {},
   "source": [
    "The following algorithms do not accept multiple columns targets : \n",
    "[\"Bayesian Ridge\" ,\"Huber Regressor\", \"Passive Aggressive Regressor\",\"ARD Regression\",\"Gradient Boosting\",\"Support Vector Regression\",\"Stochastic Gradient Descent\"]\n",
    "\n",
    "This is a constrain in the selection of the regressor algorithms"
   ]
  },
  {
   "cell_type": "code",
   "execution_count": 11,
   "metadata": {},
   "outputs": [],
   "source": [
    "# There is three dirrefent targets \n",
    "results_dictionary = {}\n",
    "for c in [0,1,2]:\n",
    "    if c != 2 : \n",
    "        X_train, X_val, X_test, y_train, y_val, y_test = get_data_separated(df_all_data,random_state=rng,choice=c)\n",
    "        # print (X_train.columns )\n",
    "        X_train, X_val, X_test = scaling_data(X_train, X_val, X_test)\n",
    "        target_feature_name = \"-\".join(y_train.columns.to_list()).replace(\" \",\"\")\n",
    "        # print (target_feature_name)\n",
    "        regression_models = load_regression_models()\n",
    "        val_results_list = []\n",
    "        for name, model in regression_models.items():\n",
    "            # print (name)\n",
    "            model.fit(X_train, y_train.to_numpy().ravel())\n",
    "            val_results_list.append ( save_metrics_results(model=model,X_test=X_val,y_test=y_val,tag=name) ) \n",
    "        val_results_df = pd.concat(val_results_list)\n",
    "        results_dictionary[target_feature_name]= val_results_df\n",
    "    else :\n",
    "        X_train, X_val, X_test, y_train, y_val, y_test = get_data_separated(df_all_data,random_state=rng,choice=c)\n",
    "        # print (X_train.columns )\n",
    "        X_train, X_val, X_test = scaling_data(X_train, X_val, X_test)\n",
    "        target_feature_name = \"-\".join(y_train.columns.to_list()).replace(\" \",\"\")\n",
    "        # print (target_feature_name)\n",
    "        regression_models = load_regression_models() \n",
    "        val_results_list = []\n",
    "        for name, model in regression_models.items():\n",
    "            # print (name)\n",
    "            if name not in only_support_1d_arrays:\n",
    "                model.fit(X_train, y_train.to_numpy())\n",
    "                val_results_list.append ( save_metrics_results(model=model,X_test=X_val,y_test=y_val,tag=name) )\n",
    "        val_results_df = pd.concat(val_results_list)\n",
    "        results_dictionary[target_feature_name]= val_results_df\n"
   ]
  },
  {
   "cell_type": "code",
   "execution_count": 12,
   "metadata": {},
   "outputs": [],
   "source": [
    "for result in results_dictionary.keys():\n",
    "    df_temp = results_dictionary[result].sort_values(by=[\"R^2\", \"MAE\"],ascending=False)\n",
    "    df_temp.to_csv(f\"../data/performance_base_models_target_{result}.csv\")"
   ]
  },
  {
   "cell_type": "code",
   "execution_count": null,
   "metadata": {},
   "outputs": [],
   "source": []
  }
 ],
 "metadata": {
  "kernelspec": {
   "display_name": "qmpy",
   "language": "python",
   "name": "python3"
  },
  "language_info": {
   "codemirror_mode": {
    "name": "ipython",
    "version": 3
   },
   "file_extension": ".py",
   "mimetype": "text/x-python",
   "name": "python",
   "nbconvert_exporter": "python",
   "pygments_lexer": "ipython3",
   "version": "3.10.6"
  }
 },
 "nbformat": 4,
 "nbformat_minor": 2
}
