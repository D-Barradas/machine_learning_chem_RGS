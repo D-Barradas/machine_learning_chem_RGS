{
 "cells": [
  {
   "cell_type": "code",
   "execution_count": 1,
   "metadata": {},
   "outputs": [],
   "source": [
    "import pandas as pd\n",
    "import numpy as np\n",
    "from sklearn.metrics import r2_score , mean_absolute_error, mean_squared_error , mean_absolute_percentage_error, median_absolute_error, mean_squared_log_error\n",
    "from sklearn.preprocessing import StandardScaler\n",
    "from sklearn.model_selection import train_test_split\n",
    "import matplotlib.pyplot as plt \n"
   ]
  },
  {
   "cell_type": "code",
   "execution_count": 2,
   "metadata": {},
   "outputs": [
    {
     "name": "stdout",
     "output_type": "stream",
     "text": [
      "Numpy version:1.23.2\n",
      "Pandas version:1.4.3\n"
     ]
    }
   ],
   "source": [
    "print (f\"Numpy version:{np.__version__}\")\n",
    "print (f\"Pandas version:{pd.__version__}\")\n"
   ]
  },
  {
   "cell_type": "code",
   "execution_count": 3,
   "metadata": {},
   "outputs": [],
   "source": [
    "def get_data_separated(dataframe, test_size=0.2, random_state=None):\n",
    "    target_feature = ['ΔVC -p'] #+ ΔVC-m,ΔVC -p\n",
    "    features_to_drop = ['substituent','molecular_formula','Name','canonical_smiles','ΔVC-m','cid']\n",
    "\n",
    "    # Assuming 'target_feature' is the dependent variable (y)\n",
    "    y = dataframe[target_feature]\n",
    "    X = dataframe.drop(columns=features_to_drop + target_feature)\n",
    "    X =X.fillna(0)\n",
    "\n",
    "    # Split into training and testing sets, excluding data_val\n",
    "    X_train, X_temp, y_train, y_temp = train_test_split(\n",
    "        X, y, test_size=test_size, random_state=random_state\n",
    "    )\n",
    "    # create the next sets , you split the temp data into halfs \n",
    "    X_val, X_test, y_val, y_test = train_test_split(\n",
    "        X_temp, y_temp, test_size=0.5, random_state=random_state\n",
    "    )\n",
    "\n",
    "    return X_train, X_val, X_test, y_train, y_val, y_test\n"
   ]
  },
  {
   "cell_type": "code",
   "execution_count": 4,
   "metadata": {},
   "outputs": [],
   "source": [
    "def scaling_data(X_train,X_val,X_test):\n",
    "\n",
    "    scaler = StandardScaler()\n",
    "\n",
    "    scaler.fit(X_train)\n",
    "    \n",
    "    # filename = '../models/scaler_for_all_features.sav'\n",
    "    # pickle.dump(scaler, open(filename, 'wb'))\n",
    "    \n",
    "    scaled_train = scaler.transform(X_train)\n",
    "    scaled_test = scaler.transform(X_test)\n",
    "    scaled_val = scaler.transform(X_val)\n",
    "    return scaled_train,scaled_val,scaled_test"
   ]
  },
  {
   "cell_type": "code",
   "execution_count": 5,
   "metadata": {},
   "outputs": [],
   "source": [
    "def save_metrics_results(model,X_test,y_test,tag):\n",
    "\n",
    "    y_pred = model.predict(X_test)\n",
    "    r2 = r2_score(y_pred=y_pred,y_true=y_test)\n",
    "    MAE = mean_absolute_error(y_pred=y_pred,y_true=y_test) \n",
    "    MSE = mean_squared_error(y_pred=y_pred,y_true=y_test) \n",
    "    MAPE = mean_absolute_percentage_error(y_pred=y_pred,y_true=y_test)\n",
    "    MedAE = median_absolute_error(y_pred=y_pred,y_true=y_test)\n",
    "    # MSLE = mean_squared_log_error(y_pred=y_pred,y_true=y_test)\n",
    "\n",
    "    results = {\n",
    "        \"R^2\": r2,\n",
    "        \"MAE\":MAE,\n",
    "        \"MSE\":MSE,\n",
    "        \"MAPE\":MAPE ,\n",
    "        \"MedAE\":MedAE,\n",
    "        # \"MSLE\":MSLE\n",
    "    }\n",
    "    mean_df = pd.DataFrame(data=results,index=[f\"{tag}\"])\n",
    "    return mean_df"
   ]
  },
  {
   "cell_type": "code",
   "execution_count": 6,
   "metadata": {},
   "outputs": [],
   "source": [
    "\n",
    "from sklearn.linear_model import LinearRegression, Ridge, Lasso, ElasticNet, BayesianRidge, HuberRegressor, PassiveAggressiveRegressor, RANSACRegressor, ARDRegression, OrthogonalMatchingPursuit\n",
    "from sklearn.tree import DecisionTreeRegressor\n",
    "from sklearn.ensemble import RandomForestRegressor, GradientBoostingRegressor\n",
    "from sklearn.neighbors import KNeighborsRegressor\n",
    "from sklearn.svm import SVR\n",
    "from sklearn.linear_model import SGDRegressor\n",
    "from sklearn.neural_network import MLPRegressor\n",
    "\n",
    "def load_regression_models():\n",
    "    models = {\n",
    "        'Linear Regression': LinearRegression(),\n",
    "        'Ridge': Ridge(),\n",
    "        'Lasso': Lasso(),\n",
    "        'Elastic Net': ElasticNet(),\n",
    "        'Bayesian Ridge': BayesianRidge(),\n",
    "        'Huber Regressor': HuberRegressor(),\n",
    "        'Passive Aggressive Regressor': PassiveAggressiveRegressor(),\n",
    "        'RANSAC Regressor': RANSACRegressor(),\n",
    "        'ARD Regression': ARDRegression(),\n",
    "        'Orthogonal Matching Pursuit': OrthogonalMatchingPursuit(),\n",
    "        'Decision Tree': DecisionTreeRegressor(),\n",
    "        'Random Forest': RandomForestRegressor(),\n",
    "        'Gradient Boosting': GradientBoostingRegressor(),\n",
    "        'K-Nearest Neighbors': KNeighborsRegressor(),\n",
    "        'Support Vector Regression': SVR(),\n",
    "        'Stochastic Gradient Descent': SGDRegressor(),\n",
    "        'Multi-layer Perceptron': MLPRegressor()\n",
    "    }\n",
    "    return models\n",
    "\n",
    "\n"
   ]
  },
  {
   "cell_type": "code",
   "execution_count": 7,
   "metadata": {},
   "outputs": [
    {
     "name": "stdout",
     "output_type": "stream",
     "text": [
      "Linear Regression: LinearRegression()\n",
      "Ridge: Ridge()\n",
      "Lasso: Lasso()\n",
      "Elastic Net: ElasticNet()\n",
      "Bayesian Ridge: BayesianRidge()\n",
      "Huber Regressor: HuberRegressor()\n",
      "Passive Aggressive Regressor: PassiveAggressiveRegressor()\n",
      "RANSAC Regressor: RANSACRegressor()\n",
      "ARD Regression: ARDRegression()\n",
      "Orthogonal Matching Pursuit: OrthogonalMatchingPursuit()\n",
      "Decision Tree: DecisionTreeRegressor()\n",
      "Random Forest: RandomForestRegressor()\n",
      "Gradient Boosting: GradientBoostingRegressor()\n",
      "K-Nearest Neighbors: KNeighborsRegressor()\n",
      "Support Vector Regression: SVR()\n",
      "Stochastic Gradient Descent: SGDRegressor()\n",
      "Multi-layer Perceptron: MLPRegressor()\n"
     ]
    }
   ],
   "source": [
    "# Example usage:\n",
    "regression_models = load_regression_models()\n",
    "for name, model in regression_models.items():\n",
    "    print(f\"{name}: {model}\")"
   ]
  },
  {
   "cell_type": "code",
   "execution_count": 8,
   "metadata": {},
   "outputs": [],
   "source": [
    "rng = np.random.RandomState(42)\n",
    "# data loading \n",
    "path = '/Users/barradd/Documents/GitHub/machine_learning_chem_RGS/data/pubchem_data_2023-12-05_343_samples.csv'\n",
    "df_all_data = pd.read_csv(path)\n"
   ]
  },
  {
   "cell_type": "code",
   "execution_count": 9,
   "metadata": {},
   "outputs": [],
   "source": [
    "X_train, X_val, X_test, y_train, y_val, y_test = get_data_separated(df_all_data,random_state=rng)\n",
    "X_train, X_val, X_test = scaling_data(X_train, X_val, X_test)"
   ]
  },
  {
   "cell_type": "code",
   "execution_count": 10,
   "metadata": {},
   "outputs": [],
   "source": [
    "def plot_the_r2(y_true, X_pred , model): #(model,X_test,y_test,tag)\n",
    "    y_true = y_true.to_numpy().ravel()\n",
    "    y_pred = model.predict(X_pred)\n",
    "    plt.figure(figsize=(10, 4))\n",
    "\n",
    "    plt.subplot(1, 2, 1)\n",
    "    plt.scatter(y_true, y_pred, color='blue')\n",
    "    plt.plot([min(y_true), max(y_true)], [min(y_true), max(y_true)], linestyle='--', color='red')\n",
    "    plt.title('Real Values vs. Predicted Values')\n",
    "    plt.xlabel('Actual Values')\n",
    "    plt.ylabel('Predicted Values')\n",
    "\n",
    "    # Plot Residuals\n",
    "    residuals = y_true - y_pred\n",
    "\n",
    "    plt.subplot(1, 2, 2)\n",
    "    plt.scatter(y_true, residuals, color='green')\n",
    "    plt.axhline(y=0, linestyle='--', color='red')\n",
    "    plt.title('Residual Plot')\n",
    "    plt.xlabel('Actual Values')\n",
    "    plt.ylabel('Residuals')\n",
    "\n",
    "    plt.tight_layout()\n",
    "    plt.show()"
   ]
  },
  {
   "cell_type": "markdown",
   "metadata": {},
   "source": [
    "* create a loop that goes over all the list of algoritms \n",
    "* then use the fit function to train them\n",
    "* the next step is to save the metrics per model \n",
    "* check the evaluation and plot the models that you think is relevant"
   ]
  },
  {
   "cell_type": "code",
   "execution_count": 11,
   "metadata": {},
   "outputs": [
    {
     "name": "stdout",
     "output_type": "stream",
     "text": [
      "Linear Regression\n",
      "Ridge\n",
      "Lasso\n",
      "Elastic Net\n",
      "Bayesian Ridge\n",
      "Huber Regressor\n",
      "Passive Aggressive Regressor\n",
      "RANSAC Regressor\n"
     ]
    },
    {
     "name": "stderr",
     "output_type": "stream",
     "text": [
      "/Users/barradd/opt/anaconda3/envs/sklearn-env/lib/python3.10/site-packages/sklearn/linear_model/_huber.py:335: ConvergenceWarning: lbfgs failed to converge (status=1):\n",
      "STOP: TOTAL NO. of ITERATIONS REACHED LIMIT.\n",
      "\n",
      "Increase the number of iterations (max_iter) or scale the data as shown in:\n",
      "    https://scikit-learn.org/stable/modules/preprocessing.html\n",
      "  self.n_iter_ = _check_optimize_result(\"lbfgs\", opt_res, self.max_iter)\n"
     ]
    },
    {
     "name": "stdout",
     "output_type": "stream",
     "text": [
      "ARD Regression\n",
      "Orthogonal Matching Pursuit\n",
      "Decision Tree\n",
      "Random Forest\n"
     ]
    },
    {
     "name": "stderr",
     "output_type": "stream",
     "text": [
      "/Users/barradd/opt/anaconda3/envs/sklearn-env/lib/python3.10/site-packages/sklearn/linear_model/_base.py:133: FutureWarning: The default of 'normalize' will be set to False in version 1.2 and deprecated in version 1.4.\n",
      "If you wish to scale the data, use Pipeline with a StandardScaler in a preprocessing stage. To reproduce the previous behavior:\n",
      "\n",
      "from sklearn.pipeline import make_pipeline\n",
      "\n",
      "model = make_pipeline(StandardScaler(with_mean=False), OrthogonalMatchingPursuit())\n",
      "\n",
      "If you wish to pass a sample_weight parameter, you need to pass it as a fit parameter to each step of the pipeline as follows:\n",
      "\n",
      "kwargs = {s[0] + '__sample_weight': sample_weight for s in model.steps}\n",
      "model.fit(X, y, **kwargs)\n",
      "\n",
      "\n",
      "  warnings.warn(\n"
     ]
    },
    {
     "name": "stdout",
     "output_type": "stream",
     "text": [
      "Gradient Boosting\n",
      "K-Nearest Neighbors\n",
      "Support Vector Regression\n",
      "Stochastic Gradient Descent\n",
      "Multi-layer Perceptron\n"
     ]
    },
    {
     "name": "stderr",
     "output_type": "stream",
     "text": [
      "/Users/barradd/opt/anaconda3/envs/sklearn-env/lib/python3.10/site-packages/sklearn/neural_network/_multilayer_perceptron.py:702: ConvergenceWarning: Stochastic Optimizer: Maximum iterations (200) reached and the optimization hasn't converged yet.\n",
      "  warnings.warn(\n"
     ]
    }
   ],
   "source": [
    "val_results_list = []\n",
    "for name, model in regression_models.items():\n",
    "    print (name)\n",
    "    model.fit(X_train, y_train.to_numpy().ravel())\n",
    "    val_results_list.append ( save_metrics_results(model=model,X_test=X_val,y_test=y_val,tag=name) ) "
   ]
  },
  {
   "cell_type": "code",
   "execution_count": 12,
   "metadata": {},
   "outputs": [],
   "source": [
    "val_results_df = pd.concat(val_results_list)"
   ]
  },
  {
   "cell_type": "code",
   "execution_count": 16,
   "metadata": {},
   "outputs": [
    {
     "data": {
      "text/html": [
       "<div>\n",
       "<style scoped>\n",
       "    .dataframe tbody tr th:only-of-type {\n",
       "        vertical-align: middle;\n",
       "    }\n",
       "\n",
       "    .dataframe tbody tr th {\n",
       "        vertical-align: top;\n",
       "    }\n",
       "\n",
       "    .dataframe thead th {\n",
       "        text-align: right;\n",
       "    }\n",
       "</style>\n",
       "<table border=\"1\" class=\"dataframe\">\n",
       "  <thead>\n",
       "    <tr style=\"text-align: right;\">\n",
       "      <th></th>\n",
       "      <th>R^2</th>\n",
       "      <th>MAE</th>\n",
       "      <th>MSE</th>\n",
       "      <th>MAPE</th>\n",
       "      <th>MedAE</th>\n",
       "    </tr>\n",
       "  </thead>\n",
       "  <tbody>\n",
       "    <tr>\n",
       "      <th>Multi-layer Perceptron</th>\n",
       "      <td>9.292701e-01</td>\n",
       "      <td>1.556827e+00</td>\n",
       "      <td>5.547179e+00</td>\n",
       "      <td>4.867317e-01</td>\n",
       "      <td>0.995507</td>\n",
       "    </tr>\n",
       "    <tr>\n",
       "      <th>Stochastic Gradient Descent</th>\n",
       "      <td>9.199809e-01</td>\n",
       "      <td>1.820737e+00</td>\n",
       "      <td>6.275711e+00</td>\n",
       "      <td>5.710497e-01</td>\n",
       "      <td>1.450462</td>\n",
       "    </tr>\n",
       "    <tr>\n",
       "      <th>Bayesian Ridge</th>\n",
       "      <td>9.175850e-01</td>\n",
       "      <td>1.828712e+00</td>\n",
       "      <td>6.463615e+00</td>\n",
       "      <td>5.721928e-01</td>\n",
       "      <td>1.544357</td>\n",
       "    </tr>\n",
       "    <tr>\n",
       "      <th>ARD Regression</th>\n",
       "      <td>9.141550e-01</td>\n",
       "      <td>1.905300e+00</td>\n",
       "      <td>6.732620e+00</td>\n",
       "      <td>5.886131e-01</td>\n",
       "      <td>1.452098</td>\n",
       "    </tr>\n",
       "    <tr>\n",
       "      <th>Ridge</th>\n",
       "      <td>9.138422e-01</td>\n",
       "      <td>1.878940e+00</td>\n",
       "      <td>6.757154e+00</td>\n",
       "      <td>5.775585e-01</td>\n",
       "      <td>1.453757</td>\n",
       "    </tr>\n",
       "    <tr>\n",
       "      <th>Linear Regression</th>\n",
       "      <td>9.109390e-01</td>\n",
       "      <td>1.883033e+00</td>\n",
       "      <td>6.984844e+00</td>\n",
       "      <td>5.716689e-01</td>\n",
       "      <td>1.222909</td>\n",
       "    </tr>\n",
       "    <tr>\n",
       "      <th>Huber Regressor</th>\n",
       "      <td>9.095674e-01</td>\n",
       "      <td>1.956546e+00</td>\n",
       "      <td>7.092416e+00</td>\n",
       "      <td>5.647116e-01</td>\n",
       "      <td>1.465605</td>\n",
       "    </tr>\n",
       "    <tr>\n",
       "      <th>Orthogonal Matching Pursuit</th>\n",
       "      <td>8.948925e-01</td>\n",
       "      <td>2.048143e+00</td>\n",
       "      <td>8.243337e+00</td>\n",
       "      <td>6.898424e-01</td>\n",
       "      <td>1.404916</td>\n",
       "    </tr>\n",
       "    <tr>\n",
       "      <th>Random Forest</th>\n",
       "      <td>8.941382e-01</td>\n",
       "      <td>1.610318e+00</td>\n",
       "      <td>8.302493e+00</td>\n",
       "      <td>3.600812e-01</td>\n",
       "      <td>0.606007</td>\n",
       "    </tr>\n",
       "    <tr>\n",
       "      <th>Gradient Boosting</th>\n",
       "      <td>8.894858e-01</td>\n",
       "      <td>1.725087e+00</td>\n",
       "      <td>8.667374e+00</td>\n",
       "      <td>4.468278e-01</td>\n",
       "      <td>0.808533</td>\n",
       "    </tr>\n",
       "    <tr>\n",
       "      <th>K-Nearest Neighbors</th>\n",
       "      <td>8.661376e-01</td>\n",
       "      <td>2.365255e+00</td>\n",
       "      <td>1.049851e+01</td>\n",
       "      <td>6.531010e-01</td>\n",
       "      <td>1.600000</td>\n",
       "    </tr>\n",
       "    <tr>\n",
       "      <th>Lasso</th>\n",
       "      <td>8.577222e-01</td>\n",
       "      <td>2.627902e+00</td>\n",
       "      <td>1.115852e+01</td>\n",
       "      <td>8.978646e-01</td>\n",
       "      <td>2.003941</td>\n",
       "    </tr>\n",
       "    <tr>\n",
       "      <th>Elastic Net</th>\n",
       "      <td>8.563785e-01</td>\n",
       "      <td>2.573465e+00</td>\n",
       "      <td>1.126390e+01</td>\n",
       "      <td>8.083834e-01</td>\n",
       "      <td>2.057593</td>\n",
       "    </tr>\n",
       "    <tr>\n",
       "      <th>Support Vector Regression</th>\n",
       "      <td>8.321860e-01</td>\n",
       "      <td>2.589017e+00</td>\n",
       "      <td>1.316126e+01</td>\n",
       "      <td>6.809709e-01</td>\n",
       "      <td>1.382099</td>\n",
       "    </tr>\n",
       "    <tr>\n",
       "      <th>Decision Tree</th>\n",
       "      <td>8.309228e-01</td>\n",
       "      <td>2.103726e+00</td>\n",
       "      <td>1.326033e+01</td>\n",
       "      <td>3.469346e-01</td>\n",
       "      <td>0.900000</td>\n",
       "    </tr>\n",
       "    <tr>\n",
       "      <th>Passive Aggressive Regressor</th>\n",
       "      <td>6.799668e-01</td>\n",
       "      <td>3.591433e+00</td>\n",
       "      <td>2.509946e+01</td>\n",
       "      <td>7.492706e-01</td>\n",
       "      <td>2.429008</td>\n",
       "    </tr>\n",
       "    <tr>\n",
       "      <th>RANSAC Regressor</th>\n",
       "      <td>-7.515366e+23</td>\n",
       "      <td>1.934467e+12</td>\n",
       "      <td>5.894127e+25</td>\n",
       "      <td>3.195151e+11</td>\n",
       "      <td>1.603247</td>\n",
       "    </tr>\n",
       "  </tbody>\n",
       "</table>\n",
       "</div>"
      ],
      "text/plain": [
       "                                       R^2           MAE           MSE  \\\n",
       "Multi-layer Perceptron        9.292701e-01  1.556827e+00  5.547179e+00   \n",
       "Stochastic Gradient Descent   9.199809e-01  1.820737e+00  6.275711e+00   \n",
       "Bayesian Ridge                9.175850e-01  1.828712e+00  6.463615e+00   \n",
       "ARD Regression                9.141550e-01  1.905300e+00  6.732620e+00   \n",
       "Ridge                         9.138422e-01  1.878940e+00  6.757154e+00   \n",
       "Linear Regression             9.109390e-01  1.883033e+00  6.984844e+00   \n",
       "Huber Regressor               9.095674e-01  1.956546e+00  7.092416e+00   \n",
       "Orthogonal Matching Pursuit   8.948925e-01  2.048143e+00  8.243337e+00   \n",
       "Random Forest                 8.941382e-01  1.610318e+00  8.302493e+00   \n",
       "Gradient Boosting             8.894858e-01  1.725087e+00  8.667374e+00   \n",
       "K-Nearest Neighbors           8.661376e-01  2.365255e+00  1.049851e+01   \n",
       "Lasso                         8.577222e-01  2.627902e+00  1.115852e+01   \n",
       "Elastic Net                   8.563785e-01  2.573465e+00  1.126390e+01   \n",
       "Support Vector Regression     8.321860e-01  2.589017e+00  1.316126e+01   \n",
       "Decision Tree                 8.309228e-01  2.103726e+00  1.326033e+01   \n",
       "Passive Aggressive Regressor  6.799668e-01  3.591433e+00  2.509946e+01   \n",
       "RANSAC Regressor             -7.515366e+23  1.934467e+12  5.894127e+25   \n",
       "\n",
       "                                      MAPE     MedAE  \n",
       "Multi-layer Perceptron        4.867317e-01  0.995507  \n",
       "Stochastic Gradient Descent   5.710497e-01  1.450462  \n",
       "Bayesian Ridge                5.721928e-01  1.544357  \n",
       "ARD Regression                5.886131e-01  1.452098  \n",
       "Ridge                         5.775585e-01  1.453757  \n",
       "Linear Regression             5.716689e-01  1.222909  \n",
       "Huber Regressor               5.647116e-01  1.465605  \n",
       "Orthogonal Matching Pursuit   6.898424e-01  1.404916  \n",
       "Random Forest                 3.600812e-01  0.606007  \n",
       "Gradient Boosting             4.468278e-01  0.808533  \n",
       "K-Nearest Neighbors           6.531010e-01  1.600000  \n",
       "Lasso                         8.978646e-01  2.003941  \n",
       "Elastic Net                   8.083834e-01  2.057593  \n",
       "Support Vector Regression     6.809709e-01  1.382099  \n",
       "Decision Tree                 3.469346e-01  0.900000  \n",
       "Passive Aggressive Regressor  7.492706e-01  2.429008  \n",
       "RANSAC Regressor              3.195151e+11  1.603247  "
      ]
     },
     "execution_count": 16,
     "metadata": {},
     "output_type": "execute_result"
    }
   ],
   "source": [
    "val_results_df.sort_values(by=[\"R^2\", \"MAE\"],ascending=False)"
   ]
  },
  {
   "cell_type": "code",
   "execution_count": 17,
   "metadata": {},
   "outputs": [
    {
     "data": {
      "image/png": "[encoded data removed]",
      "text/plain": [
       "<Figure size 1000x400 with 2 Axes>"
      ]
     },
     "metadata": {},
     "output_type": "display_data"
    }
   ],
   "source": [
    "plot_the_r2(y_true=y_val, X_pred = X_val , model = regression_models[\"Multi-layer Perceptron\"] )\n",
    "\n"
   ]
  },
  {
   "cell_type": "code",
   "execution_count": 18,
   "metadata": {},
   "outputs": [
    {
     "data": {
      "image/png": "[encoded data removed]",
      "text/plain": [
       "<Figure size 1000x400 with 2 Axes>"
      ]
     },
     "metadata": {},
     "output_type": "display_data"
    }
   ],
   "source": [
    "plot_the_r2( y_true=y_val, X_pred = X_val , model = regression_models[\"Stochastic Gradient Descent\"]    )"
   ]
  },
  {
   "cell_type": "code",
   "execution_count": null,
   "metadata": {},
   "outputs": [],
   "source": []
  }
 ],
 "metadata": {
  "kernelspec": {
   "display_name": "sklearn-env",
   "language": "python",
   "name": "python3"
  },
  "language_info": {
   "codemirror_mode": {
    "name": "ipython",
    "version": 3
   },
   "file_extension": ".py",
   "mimetype": "text/x-python",
   "name": "python",
   "nbconvert_exporter": "python",
   "pygments_lexer": "ipython3",
   "version": "3.10.6"
  }
 },
 "nbformat": 4,
 "nbformat_minor": 2
}
