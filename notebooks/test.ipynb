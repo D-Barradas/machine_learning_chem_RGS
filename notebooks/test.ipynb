{
 "cells": [
  {
   "cell_type": "code",
   "execution_count": 1,
   "metadata": {},
   "outputs": [],
   "source": [
    "cids_missing = {\n",
    "                \"diethyl(phenyl)arsane\":\"592868\",\n",
    "                \"chloroethenyl]selanylbenzene\":\"13334225\",\n",
    "                \"Chloro(phenyl)(dimethylamino)phosphine\":\"12929704\", \n",
    "                \"(4-Methylphenyl)(oxo)diphenyl-lambda~5~phosphane\":\"12550549\" ,\n",
    "                \"(phenyl)sulfanylidene-lambda~5~-phosphane\":\"13799698\",\n",
    "                \"1-fluoro-4-(1,1,2,2-tetrafluoro-2-phenylethyl)benzene\":\"9993363\",\n",
    "                \"1,1,1,3,3,3-hexafluoro-2-(trifluoromethyl)propan-2-yl]sulfanylbenzene\":\"4171287\"}"
   ]
  },
  {
   "cell_type": "code",
   "execution_count": 4,
   "metadata": {},
   "outputs": [
    {
     "name": "stdout",
     "output_type": "stream",
     "text": [
      "diethyl(phenyl)arsane 592868 592868\n",
      "chloroethenyl]selanylbenzene 13334225 13334225\n",
      "Chloro(phenyl)(dimethylamino)phosphine 12929704 12929704\n",
      "(4-Methylphenyl)(oxo)diphenyl-lambda~5~phosphane 12550549 12550549\n",
      "(phenyl)sulfanylidene-lambda~5~-phosphane 13799698 13799698\n",
      "1-fluoro-4-(1,1,2,2-tetrafluoro-2-phenylethyl)benzene 9993363 9993363\n",
      "1,1,1,3,3,3-hexafluoro-2-(trifluoromethyl)propan-2-yl]sulfanylbenzene 4171287 4171287\n"
     ]
    }
   ],
   "source": [
    "for key,cid in cids_missing.items():\n",
    "    print (key,cid ,cids_missing[key] )"
   ]
  },
  {
   "cell_type": "code",
   "execution_count": null,
   "metadata": {},
   "outputs": [],
   "source": []
  }
 ],
 "metadata": {
  "kernelspec": {
   "display_name": "qmpy",
   "language": "python",
   "name": "python3"
  },
  "language_info": {
   "codemirror_mode": {
    "name": "ipython",
    "version": 3
   },
   "file_extension": ".py",
   "mimetype": "text/x-python",
   "name": "python",
   "nbconvert_exporter": "python",
   "pygments_lexer": "ipython3",
   "version": "3.9.16"
  }
 },
 "nbformat": 4,
 "nbformat_minor": 2
}
