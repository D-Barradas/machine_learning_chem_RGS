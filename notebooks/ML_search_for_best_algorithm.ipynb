{
 "cells": [
  {
   "cell_type": "code",
   "execution_count": 1,
   "metadata": {},
   "outputs": [],
   "source": [
    "import pandas as pd\n",
    "import numpy as np\n",
    "from sklearn.metrics import r2_score , mean_absolute_error, mean_squared_error , mean_absolute_percentage_error, median_absolute_error, mean_squared_log_error\n",
    "from sklearn.preprocessing import StandardScaler\n",
    "from sklearn.model_selection import train_test_split\n",
    "import matplotlib.pyplot as plt \n"
   ]
  },
  {
   "cell_type": "code",
   "execution_count": 2,
   "metadata": {},
   "outputs": [
    {
     "name": "stdout",
     "output_type": "stream",
     "text": [
      "Numpy version:1.23.2\n",
      "Pandas version:1.4.3\n"
     ]
    }
   ],
   "source": [
    "print (f\"Numpy version:{np.__version__}\")\n",
    "print (f\"Pandas version:{pd.__version__}\")\n"
   ]
  },
  {
   "cell_type": "code",
   "execution_count": 3,
   "metadata": {},
   "outputs": [],
   "source": [
    "def get_data_separated(dataframe, test_size=0.2, random_state=None):\n",
    "    target_feature = ['ΔVC -p'] #+ ΔVC-m,ΔVC -p\n",
    "    features_to_drop = ['substituent','molecular_formula','Name','canonical_smiles','ΔVC-m','cid']\n",
    "\n",
    "    # Assuming 'target_feature' is the dependent variable (y)\n",
    "    y = dataframe[target_feature]\n",
    "    X = dataframe.drop(columns=features_to_drop + target_feature)\n",
    "    X =X.fillna(0)\n",
    "\n",
    "    # Split into training and testing sets, excluding data_val\n",
    "    X_train, X_temp, y_train, y_temp = train_test_split(\n",
    "        X, y, test_size=test_size, random_state=random_state\n",
    "    )\n",
    "    # create the next sets , you split the temp data into halfs \n",
    "    X_val, X_test, y_val, y_test = train_test_split(\n",
    "        X_temp, y_temp, test_size=0.5, random_state=random_state\n",
    "    )\n",
    "\n",
    "    return X_train, X_val, X_test, y_train, y_val, y_test\n"
   ]
  },
  {
   "cell_type": "code",
   "execution_count": 4,
   "metadata": {},
   "outputs": [],
   "source": [
    "def scaling_data(X_train,X_val,X_test):\n",
    "\n",
    "    scaler = StandardScaler()\n",
    "\n",
    "    scaler.fit(X_train)\n",
    "    \n",
    "    # filename = '../models/scaler_for_all_features.sav'\n",
    "    # pickle.dump(scaler, open(filename, 'wb'))\n",
    "    \n",
    "    scaled_train = scaler.transform(X_train)\n",
    "    scaled_test = scaler.transform(X_test)\n",
    "    scaled_val = scaler.transform(X_val)\n",
    "    return scaled_train,scaled_val,scaled_test"
   ]
  },
  {
   "cell_type": "code",
   "execution_count": 11,
   "metadata": {},
   "outputs": [],
   "source": [
    "def save_metrics_results(model,X_test,y_test,tag):\n",
    "\n",
    "    y_pred = model.predict(X_test)\n",
    "    r2 = r2_score(y_pred=y_pred,y_true=y_test)\n",
    "    MAE = mean_absolute_error(y_pred=y_pred,y_true=y_test) \n",
    "    MSE = mean_squared_error(y_pred=y_pred,y_true=y_test) \n",
    "    MAPE = mean_absolute_percentage_error(y_pred=y_pred,y_true=y_test)\n",
    "    MedAE = median_absolute_error(y_pred=y_pred,y_true=y_test)\n",
    "    # MSLE = mean_squared_log_error(y_pred=y_pred,y_true=y_test)\n",
    "\n",
    "    results = {\n",
    "        \"R^2\": r2,\n",
    "        \"MAE\":MAE,\n",
    "        \"MSE\":MSE,\n",
    "        \"MAPE\":MAPE ,\n",
    "        \"MedAE\":MedAE,\n",
    "        # \"MSLE\":MSLE\n",
    "    }\n",
    "    mean_df = pd.DataFrame(data=results,index=[f\"{tag}\"])\n",
    "    return mean_df"
   ]
  },
  {
   "cell_type": "code",
   "execution_count": null,
   "metadata": {},
   "outputs": [],
   "source": [
    "\n",
    "from sklearn.linear_model import LinearRegression, Ridge, Lasso, ElasticNet, BayesianRidge, HuberRegressor, PassiveAggressiveRegressor, RANSACRegressor, ARDRegression, OrthogonalMatchingPursuit\n",
    "from sklearn.tree import DecisionTreeRegressor\n",
    "from sklearn.ensemble import RandomForestRegressor, GradientBoostingRegressor\n",
    "from sklearn.neighbors import KNeighborsRegressor\n",
    "from sklearn.svm import SVR\n",
    "from sklearn.linear_model import SGDRegressor\n",
    "from sklearn.neural_network import MLPRegressor\n",
    "from sklearn.isotonic import IsotonicRegression\n",
    "\n",
    "def load_regression_models():\n",
    "    models = {\n",
    "        'Linear Regression': LinearRegression(),\n",
    "        'Ridge': Ridge(),\n",
    "        'Lasso': Lasso(),\n",
    "        'Elastic Net': ElasticNet(),\n",
    "        'Bayesian Ridge': BayesianRidge(),\n",
    "        'Huber Regressor': HuberRegressor(),\n",
    "        'Passive Aggressive Regressor': PassiveAggressiveRegressor(),\n",
    "        'RANSAC Regressor': RANSACRegressor(),\n",
    "        'Isotonic Regression': IsotonicRegression(),\n",
    "        'ARD Regression': ARDRegression(),\n",
    "        'Orthogonal Matching Pursuit': OrthogonalMatchingPursuit(),\n",
    "        'Decision Tree': DecisionTreeRegressor(),\n",
    "        'Random Forest': RandomForestRegressor(),\n",
    "        'Gradient Boosting': GradientBoostingRegressor(),\n",
    "        'K-Nearest Neighbors': KNeighborsRegressor(),\n",
    "        'Support Vector Regression': SVR(),\n",
    "        'Stochastic Gradient Descent': SGDRegressor(),\n",
    "        'Multi-layer Perceptron': MLPRegressor()\n",
    "    }\n",
    "    return models\n",
    "\n",
    "\n"
   ]
  },
  {
   "cell_type": "code",
   "execution_count": null,
   "metadata": {},
   "outputs": [],
   "source": [
    "# Example usage:\n",
    "regression_models = load_regression_models()\n",
    "for name, model in regression_models.items():\n",
    "    print(f\"{name}: {model}\")"
   ]
  },
  {
   "cell_type": "code",
   "execution_count": 6,
   "metadata": {},
   "outputs": [],
   "source": [
    "rng = np.random.RandomState(42)\n",
    "# data loading \n",
    "path = '/Users/barradd/Documents/GitHub/machine_learning_chem_RGS/data/pubchem_data_2023-12-05_343_samples.csv'\n",
    "df_all_data = pd.read_csv(path)\n"
   ]
  },
  {
   "cell_type": "code",
   "execution_count": 7,
   "metadata": {},
   "outputs": [],
   "source": [
    "X_train, X_val, X_test, y_train, y_val, y_test = get_data_separated(df_all_data,random_state=rng)\n",
    "X_train, X_val, X_test = scaling_data(X_train, X_val, X_test)"
   ]
  },
  {
   "cell_type": "code",
   "execution_count": 20,
   "metadata": {},
   "outputs": [],
   "source": [
    "def plot_the_r2(y_true, X_pred , model): #(model,X_test,y_test,tag)\n",
    "    y_true = y_true.to_numpy().ravel()\n",
    "    y_pred = model.predict(X_pred)\n",
    "    plt.figure(figsize=(10, 4))\n",
    "\n",
    "    plt.subplot(1, 2, 1)\n",
    "    plt.scatter(y_true, y_pred, color='blue')\n",
    "    plt.plot([min(y_true), max(y_true)], [min(y_true), max(y_true)], linestyle='--', color='red')\n",
    "    plt.title('Real Values vs. Predicted Values')\n",
    "    plt.xlabel('Actual Values')\n",
    "    plt.ylabel('Predicted Values')\n",
    "\n",
    "    # Plot Residuals\n",
    "    residuals = y_true - y_pred\n",
    "\n",
    "    plt.subplot(1, 2, 2)\n",
    "    plt.scatter(y_true, residuals, color='green')\n",
    "    plt.axhline(y=0, linestyle='--', color='red')\n",
    "    plt.title('Residual Plot')\n",
    "    plt.xlabel('Actual Values')\n",
    "    plt.ylabel('Residuals')\n",
    "\n",
    "    plt.tight_layout()\n",
    "    plt.show()"
   ]
  },
  {
   "cell_type": "code",
   "execution_count": null,
   "metadata": {},
   "outputs": [],
   "source": [
    "## create a loop that goes over all the list of algoritms \n",
    "## then use the fit function to train them\n",
    "## the next step is to save the metrics per model \n",
    "## check the evaluation and plot the models that you think is relevant"
   ]
  }
 ],
 "metadata": {
  "kernelspec": {
   "display_name": "sklearn-env",
   "language": "python",
   "name": "python3"
  },
  "language_info": {
   "codemirror_mode": {
    "name": "ipython",
    "version": 3
   },
   "file_extension": ".py",
   "mimetype": "text/x-python",
   "name": "python",
   "nbconvert_exporter": "python",
   "pygments_lexer": "ipython3",
   "version": "3.10.6"
  }
 },
 "nbformat": 4,
 "nbformat_minor": 2
}
