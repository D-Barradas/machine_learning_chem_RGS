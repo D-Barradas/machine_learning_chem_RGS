{
 "cells": [
  {
   "cell_type": "code",
   "execution_count": 30,
   "metadata": {},
   "outputs": [],
   "source": [
    "import os, sys\n",
    "from datetime import date\n",
    "import pubchempy as pcp \n",
    "import pandas as pd\n",
    "from rdkit import Chem\n"
   ]
  },
  {
   "cell_type": "code",
   "execution_count": 16,
   "metadata": {},
   "outputs": [
    {
     "name": "stdout",
     "output_type": "stream",
     "text": [
      "Today's date: 2023-11-21\n"
     ]
    }
   ],
   "source": [
    "today = date.today()\n",
    "print ( \"Today's date:\", today)"
   ]
  },
  {
   "cell_type": "code",
   "execution_count": 17,
   "metadata": {},
   "outputs": [],
   "source": [
    "all_cids = [ x for x in open(\"../data/compunds_cids.txt\", \"r\")]"
   ]
  },
  {
   "cell_type": "code",
   "execution_count": 18,
   "metadata": {},
   "outputs": [],
   "source": [
    "def get_the_rdkit_features(df_to_edit):\n",
    "    mol = Chem.MolFromSmiles(df_to_edit['canonical_smiles'][0])\n",
    "    df_to_edit['Num_of_Rings'] = mol.GetRingInfo().NumRings()\n",
    "    df_to_edit[\"heavy_atoms\"] = mol.GetNumAtoms()\n",
    "    return df_to_edit,mol\n",
    "    \n",
    "    "
   ]
  },
  {
   "cell_type": "code",
   "execution_count": 19,
   "metadata": {},
   "outputs": [],
   "source": [
    "def get_the_type_of_bond(mol):\n",
    "    counter_ar , counter_single, counter_double, counter_triple = 0,0,0,0\n",
    "    for num ,m in enumerate ( mol.GetAtoms() ):\n",
    "        print ( num, m.GetSymbol(), mol.GetAtomWithIdx(num).IsInRing(), mol.GetBonds()[num].GetBondType() )\n",
    "        if str ( mol.GetBonds()[num].GetBondType() ) == \"AROMATIC\":\n",
    "            counter_ar+=1\n",
    "        elif str ( mol.GetBonds()[num].GetBondType() )  == \"SINGLE\":\n",
    "            counter_single+=1\n",
    "        elif str ( mol.GetBonds()[num].GetBondType() )== \"DOUBLE\":\n",
    "            counter_double+=1\n",
    "        else :\n",
    "            counter_triple+=1\n",
    "    df_temp = pd.DataFrame([counter_ar , counter_single, counter_double, counter_triple],\n",
    "             index=['aromatic_bond','single_bond', 'double_bond', 'triple_bond' ])\n",
    "    return df_temp.T\n",
    "    # print (num, m.GetAtomicNum() , m.GetSymbol() , mol.GetAtomWithIdx(num).IsInRing() ,  mol.GetAtomWithIdx(num).IsInRingSize(5) , mol.GetAtomWithIdx(num).IsInRingSize(6)"
   ]
  },
  {
   "cell_type": "code",
   "execution_count": 20,
   "metadata": {},
   "outputs": [],
   "source": [
    "my_properties_list = [ \n",
    "    'cid',\n",
    "    'molecular_formula',\n",
    "    'molecular_weight',\n",
    "    'exact_mass',\n",
    "    'monoisotopic_mass' ,\n",
    "    'charge' ,\n",
    "    'heavy_atom_count',\n",
    "    'h_bond_donor_count',\n",
    "    'h_bond_acceptor_count',\n",
    "    'xlogp',\n",
    "    'tpsa',\n",
    "    'canonical_smiles',\n",
    "    'complexity',\n",
    "    'covalent_unit_count',\n",
    "    'bonds',\n",
    "    'elements'\n",
    "                      ] "
   ]
  },
  {
   "cell_type": "code",
   "execution_count": 21,
   "metadata": {},
   "outputs": [],
   "source": [
    "line_number = sys.argv[1]\n",
    "my_cids = all_cids[0]"
   ]
  },
  {
   "cell_type": "code",
   "execution_count": 22,
   "metadata": {},
   "outputs": [],
   "source": [
    "c = pcp.Compound.from_cid(my_cids)\n",
    "# get the information on a dictionary \n",
    "temp_dict = c.to_dict( properties= my_properties_list) \n",
    "# transform the dict into pandas dataframe \n",
    "df_to_edit = pd.DataFrame.from_dict(data=temp_dict,orient='index').T"
   ]
  },
  {
   "cell_type": "code",
   "execution_count": 23,
   "metadata": {},
   "outputs": [],
   "source": [
    "element_type = pd.get_dummies( pd.Series ( df_to_edit['elements'].iloc[0]) ,dtype=float ).sum()"
   ]
  },
  {
   "cell_type": "code",
   "execution_count": 24,
   "metadata": {},
   "outputs": [],
   "source": [
    "df_to_edit['all_atoms_count']= df_to_edit['elements'].apply( lambda x:len(x))\n",
    "df_to_edit['all_atoms_count_unique'] = df_to_edit['elements'].apply( lambda x: len ( list(dict.fromkeys(x)) ) )\n",
    "# df_to_edit.drop(['bonds','elements'],axis=1 ,inplace=True)"
   ]
  },
  {
   "cell_type": "code",
   "execution_count": 25,
   "metadata": {},
   "outputs": [],
   "source": [
    "# pd.concat( [df_to_edit ,element_type.to_frame().T],axis=1)"
   ]
  },
  {
   "cell_type": "code",
   "execution_count": 26,
   "metadata": {},
   "outputs": [],
   "source": [
    "# for m in mol.GetAromaticAtoms():\n",
    "#     print (m.GetSymbol())"
   ]
  },
  {
   "cell_type": "code",
   "execution_count": 27,
   "metadata": {},
   "outputs": [
    {
     "name": "stdout",
     "output_type": "stream",
     "text": [
      "0 C True AROMATIC\n",
      "1 C True AROMATIC\n",
      "2 S True AROMATIC\n",
      "3 C True AROMATIC\n",
      "4 C True AROMATIC\n",
      "5 N True AROMATIC\n",
      "6 C True AROMATIC\n",
      "7 C True SINGLE\n",
      "8 C False DOUBLE\n",
      "9 O False SINGLE\n",
      "10 O False AROMATIC\n"
     ]
    }
   ],
   "source": [
    "df_to_edit_2 , mol  = get_the_rdkit_features(df_to_edit=df_to_edit)\n",
    "df_to_edit_3 = get_the_type_of_bond(mol)"
   ]
  },
  {
   "cell_type": "code",
   "execution_count": 32,
   "metadata": {},
   "outputs": [],
   "source": [
    "final_dataframe = pd.concat( [df_to_edit_2, df_to_edit_3,element_type.to_frame().T],axis=1)\n",
    "final_dataframe.drop(['bonds','elements'],axis=1 ,inplace=True)"
   ]
  },
  {
   "cell_type": "code",
   "execution_count": 33,
   "metadata": {},
   "outputs": [],
   "source": [
    "final_dataframe.to_csv(f\"../data/premilinar_data_{my_cids}.csv\", index=None )"
   ]
  }
 ],
 "metadata": {
  "kernelspec": {
   "display_name": "qmpy",
   "language": "python",
   "name": "python3"
  },
  "language_info": {
   "codemirror_mode": {
    "name": "ipython",
    "version": 3
   },
   "file_extension": ".py",
   "mimetype": "text/x-python",
   "name": "python",
   "nbconvert_exporter": "python",
   "pygments_lexer": "ipython3",
   "version": "3.9.16"
  }
 },
 "nbformat": 4,
 "nbformat_minor": 2
}
